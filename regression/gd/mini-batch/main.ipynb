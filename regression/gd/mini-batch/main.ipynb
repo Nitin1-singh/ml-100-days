{
 "cells": [
  {
   "cell_type": "markdown",
   "metadata": {},
   "source": [
    "## Mini Batch\n"
   ]
  },
  {
   "cell_type": "code",
   "execution_count": 7,
   "metadata": {},
   "outputs": [],
   "source": [
    "from sklearn.datasets import load_diabetes\n",
    "import numpy as np\n",
    "from sklearn.linear_model import LinearRegression\n",
    "from sklearn.metrics import r2_score\n",
    "from sklearn.model_selection import train_test_split"
   ]
  },
  {
   "cell_type": "code",
   "execution_count": 8,
   "metadata": {},
   "outputs": [
    {
     "data": {
      "text/plain": [
       "((442, 10), (442,))"
      ]
     },
     "execution_count": 8,
     "metadata": {},
     "output_type": "execute_result"
    }
   ],
   "source": [
    "x,y = load_diabetes(return_X_y=True)\n",
    "x.shape, y.shape"
   ]
  },
  {
   "cell_type": "code",
   "execution_count": 9,
   "metadata": {},
   "outputs": [
    {
     "data": {
      "text/plain": [
       "(array([  -9.15865318, -205.45432163,  516.69374454,  340.61999905,\n",
       "        -895.5520019 ,  561.22067904,  153.89310954,  126.73139688,\n",
       "         861.12700152,   52.42112238]),\n",
       " 151.88331005254167)"
      ]
     },
     "execution_count": 9,
     "metadata": {},
     "output_type": "execute_result"
    }
   ],
   "source": [
    "x_train,x_test,y_train,y_test = train_test_split(x,y,test_size=0.2,random_state=2)  \n",
    "reg = LinearRegression()\n",
    "reg.fit(x_train,y_train)\n",
    "reg.coef_, reg.intercept_"
   ]
  },
  {
   "cell_type": "code",
   "execution_count": 10,
   "metadata": {},
   "outputs": [],
   "source": [
    "import random\n",
    "class CustomMinGD:\n",
    "  def __init__(self,n,lr,epoch):\n",
    "    self.coef_ = None\n",
    "    self.intercept_ = None\n",
    "    self.lr = lr\n",
    "    self.epoch = epoch\n",
    "    self.n = n\n",
    "\n",
    "  def fit(self,x_train,y_train):\n",
    "    self.intercept_ = 0\n",
    "    self.coef_ = np.ones(x_train.shape[1])\n",
    "\n",
    "    for i in range(self.epoch):\n",
    "      for j in range(int(x_train.shape[0]/self.n)):\n",
    "        idx = random.sample(range(x_train.shape[0]),self.n)\n",
    "\n",
    "        y_hat = np.dot(x_train[idx],self.coef_) + self.intercept_ \n",
    "\n",
    "        inter = -2*np.mean(y_train[idx]-y_hat)\n",
    "        self.intercept_ = self.intercept_ - (self.lr * inter) \n",
    "\n",
    "        cof = -2*(np.dot((y_train[idx]-y_hat),x_train[idx]))  \n",
    "        self.coef_ = self.coef_ - (self.lr*cof)\n",
    "        \n",
    "    print(self.coef_,self.intercept_)\n",
    "    return\n",
    "\n",
    "  def predict(self,x_test):\n",
    "    return np.dot(x_test,self.coef_) + self.intercept_ \n",
    "    "
   ]
  },
  {
   "cell_type": "code",
   "execution_count": 12,
   "metadata": {},
   "outputs": [
    {
     "name": "stdout",
     "output_type": "stream",
     "text": [
      "[  56.99287105  -63.60167263  354.53694719  249.19735458   26.08777258\n",
      "  -21.44108741 -169.98913561  131.32697389  323.18810236  131.2998729 ] 152.7450085616323\n"
     ]
    }
   ],
   "source": [
    "SGD = CustomMinGD(10,0.01,50)\n",
    "SGD.fit(x_train,y_train)"
   ]
  }
 ],
 "metadata": {
  "kernelspec": {
   "display_name": "Python 3",
   "language": "python",
   "name": "python3"
  },
  "language_info": {
   "codemirror_mode": {
    "name": "ipython",
    "version": 3
   },
   "file_extension": ".py",
   "mimetype": "text/x-python",
   "name": "python",
   "nbconvert_exporter": "python",
   "pygments_lexer": "ipython3",
   "version": "3.12.0"
  }
 },
 "nbformat": 4,
 "nbformat_minor": 2
}

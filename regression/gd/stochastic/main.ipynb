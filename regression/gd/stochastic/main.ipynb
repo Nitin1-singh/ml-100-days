{
 "cells": [
  {
   "cell_type": "markdown",
   "metadata": {},
   "source": [
    "## Stochastic GD\n"
   ]
  },
  {
   "cell_type": "code",
   "execution_count": 13,
   "metadata": {},
   "outputs": [],
   "source": [
    "from sklearn.datasets import load_diabetes\n",
    "import numpy as np\n",
    "from sklearn.linear_model import LinearRegression\n",
    "from sklearn.metrics import r2_score\n",
    "from sklearn.model_selection import train_test_split"
   ]
  },
  {
   "cell_type": "code",
   "execution_count": 14,
   "metadata": {},
   "outputs": [
    {
     "data": {
      "text/plain": [
       "((442, 10), (442,))"
      ]
     },
     "execution_count": 14,
     "metadata": {},
     "output_type": "execute_result"
    }
   ],
   "source": [
    "x,y = load_diabetes(return_X_y=True)\n",
    "x.shape, y.shape"
   ]
  },
  {
   "cell_type": "code",
   "execution_count": 15,
   "metadata": {},
   "outputs": [
    {
     "data": {
      "text/plain": [
       "(array([  -9.15865318, -205.45432163,  516.69374454,  340.61999905,\n",
       "        -895.5520019 ,  561.22067904,  153.89310954,  126.73139688,\n",
       "         861.12700152,   52.42112238]),\n",
       " 151.88331005254167)"
      ]
     },
     "execution_count": 15,
     "metadata": {},
     "output_type": "execute_result"
    }
   ],
   "source": [
    "x_train,x_test,y_train,y_test = train_test_split(x,y,test_size=0.2,random_state=2)  \n",
    "reg = LinearRegression()\n",
    "reg.fit(x_train,y_train)\n",
    "reg.coef_, reg.intercept_"
   ]
  },
  {
   "cell_type": "code",
   "execution_count": 28,
   "metadata": {},
   "outputs": [],
   "source": [
    "class CustomStochasticGD:\n",
    "  def __init__(self,lr,epoch):\n",
    "    self.coef_ = None\n",
    "    self.intercept_ = None\n",
    "    self.lr = lr\n",
    "    self.epoch = epoch\n",
    "\n",
    "  def fit(self,x_train,y_train):\n",
    "    self.intercept_ = 0\n",
    "    self.coef_ = np.ones(x_train.shape[1])\n",
    "\n",
    "    for i in range(self.epoch):\n",
    "      for j in range(x_train.shape[0]):\n",
    "        idx = np.random.randint(0,x_train.shape[0])\n",
    "        y_hat = np.dot(x_train[idx],self.coef_) + self.intercept_ \n",
    "\n",
    "        inter = -2*(y_train[idx]-y_hat)\n",
    "        self.intercept_ = self.intercept_ - (self.lr * inter) \n",
    "\n",
    "        cof = -2*(np.dot((y_train[idx]-y_hat),x_train[idx]))  \n",
    "        self.coef_ = self.coef_ - (self.lr*cof)\n",
    "        \n",
    "    print(self.coef_,self.intercept_)\n",
    "    return\n",
    "\n",
    "  def predict(self,x_test):\n",
    "    return np.dot(x_test,self.coef_) + self.intercept_ \n",
    "    "
   ]
  },
  {
   "cell_type": "code",
   "execution_count": 32,
   "metadata": {},
   "outputs": [
    {
     "name": "stdout",
     "output_type": "stream",
     "text": [
      "[  60.70999958  -68.55540501  355.47965435  249.18631069   18.41838779\n",
      "  -30.54284144 -170.52543803  126.51820301  324.98130837  137.96731915] 160.51443200108469\n"
     ]
    }
   ],
   "source": [
    "SGD = CustomStochasticGD(0.01,50)\n",
    "SGD.fit(x_train,y_train)"
   ]
  }
 ],
 "metadata": {
  "kernelspec": {
   "display_name": "Python 3",
   "language": "python",
   "name": "python3"
  },
  "language_info": {
   "codemirror_mode": {
    "name": "ipython",
    "version": 3
   },
   "file_extension": ".py",
   "mimetype": "text/x-python",
   "name": "python",
   "nbconvert_exporter": "python",
   "pygments_lexer": "ipython3",
   "version": "3.12.0"
  }
 },
 "nbformat": 4,
 "nbformat_minor": 2
}
